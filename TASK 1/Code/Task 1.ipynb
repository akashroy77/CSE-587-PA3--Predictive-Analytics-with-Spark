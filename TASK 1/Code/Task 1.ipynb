{
  "nbformat": 4,
  "nbformat_minor": 0,
  "metadata": {
    "colab": {
      "name": "Untitled0.ipynb",
      "provenance": []
    },
    "kernelspec": {
      "name": "python3",
      "display_name": "Python 3"
    }
  },
  "cells": [
    {
      "cell_type": "code",
      "metadata": {
        "id": "rnQR_PxHRl-N",
        "colab_type": "code",
        "colab": {}
      },
      "source": [
        "!pip install -q findspark "
      ],
      "execution_count": 0,
      "outputs": []
    },
    {
      "cell_type": "code",
      "metadata": {
        "id": "dhkCH0BCTMdx",
        "colab_type": "code",
        "colab": {
          "base_uri": "https://localhost:8080/",
          "height": 52
        },
        "outputId": "93cb4c4b-b41f-4d18-f2ba-c147bdb01a64"
      },
      "source": [
        "!pip install pyspark"
      ],
      "execution_count": 71,
      "outputs": [
        {
          "output_type": "stream",
          "text": [
            "Requirement already satisfied: pyspark in /usr/local/lib/python3.6/dist-packages (2.4.5)\n",
            "Requirement already satisfied: py4j==0.10.7 in /usr/local/lib/python3.6/dist-packages (from pyspark) (0.10.7)\n"
          ],
          "name": "stdout"
        }
      ]
    },
    {
      "cell_type": "code",
      "metadata": {
        "id": "g1Rweb0tTooH",
        "colab_type": "code",
        "colab": {
          "base_uri": "https://localhost:8080/",
          "height": 34
        },
        "outputId": "6b96a476-8d8e-43b8-9b22-90b3a263575f"
      },
      "source": [
        "from google.colab import drive\n",
        "drive.mount('/content/gdrive')"
      ],
      "execution_count": 72,
      "outputs": [
        {
          "output_type": "stream",
          "text": [
            "Drive already mounted at /content/gdrive; to attempt to forcibly remount, call drive.mount(\"/content/gdrive\", force_remount=True).\n"
          ],
          "name": "stdout"
        }
      ]
    },
    {
      "cell_type": "code",
      "metadata": {
        "id": "6SkzH7GwCNfk",
        "colab_type": "code",
        "colab": {}
      },
      "source": [
        "!apt-get install openjdk-8-jdk-headless -qq > /dev/null"
      ],
      "execution_count": 0,
      "outputs": []
    },
    {
      "cell_type": "code",
      "metadata": {
        "id": "DZjkg2lWCPkd",
        "colab_type": "code",
        "colab": {
          "base_uri": "https://localhost:8080/",
          "height": 70
        },
        "outputId": "826b008c-c764-4de4-a27b-ffae830be2f8"
      },
      "source": [
        "import os\n",
        "os.environ[\"JAVA_HOME\"] = \"/usr/lib/jvm/java-8-openjdk-amd64\"\n",
        "!update-alternatives --set java /usr/lib/jvm/java-8-openjdk-amd64/jre/bin/java\n",
        "!java -version"
      ],
      "execution_count": 74,
      "outputs": [
        {
          "output_type": "stream",
          "text": [
            "openjdk version \"1.8.0_252\"\n",
            "OpenJDK Runtime Environment (build 1.8.0_252-8u252-b09-1~18.04-b09)\n",
            "OpenJDK 64-Bit Server VM (build 25.252-b09, mixed mode)\n"
          ],
          "name": "stdout"
        }
      ]
    },
    {
      "cell_type": "code",
      "metadata": {
        "id": "FxVs7WtOU6Jm",
        "colab_type": "code",
        "colab": {}
      },
      "source": [
        "import findspark\n",
        "import pyspark\n",
        "from pyspark.sql import *\n",
        "import pandas as pd"
      ],
      "execution_count": 0,
      "outputs": []
    },
    {
      "cell_type": "code",
      "metadata": {
        "id": "xRd95iSpVR7T",
        "colab_type": "code",
        "colab": {}
      },
      "source": [
        "MAX_MEMORY = '6g'\n",
        "spark_session = SparkSession.builder \\\n",
        "    .master(\"local\") \\\n",
        "    .appName(\"Task 3\") \\\n",
        "    .config(\"spark.executor.memory\", MAX_MEMORY) \\\n",
        "    .config(\"spark.driver.memory\", MAX_MEMORY)\\\n",
        "    .getOrCreate()"
      ],
      "execution_count": 0,
      "outputs": []
    },
    {
      "cell_type": "code",
      "metadata": {
        "id": "-rVoXevqVYUy",
        "colab_type": "code",
        "colab": {
          "base_uri": "https://localhost:8080/",
          "height": 203
        },
        "outputId": "6841fab4-0b10-4552-ae5f-940f2a2252dd"
      },
      "source": [
        "df = pd.read_csv(\"/content/gdrive/My Drive/Colab Notebooks/train.csv\", delimiter = \",\")\n",
        "df.head(5)"
      ],
      "execution_count": 77,
      "outputs": [
        {
          "output_type": "execute_result",
          "data": {
            "text/html": [
              "<div>\n",
              "<style scoped>\n",
              "    .dataframe tbody tr th:only-of-type {\n",
              "        vertical-align: middle;\n",
              "    }\n",
              "\n",
              "    .dataframe tbody tr th {\n",
              "        vertical-align: top;\n",
              "    }\n",
              "\n",
              "    .dataframe thead th {\n",
              "        text-align: right;\n",
              "    }\n",
              "</style>\n",
              "<table border=\"1\" class=\"dataframe\">\n",
              "  <thead>\n",
              "    <tr style=\"text-align: right;\">\n",
              "      <th></th>\n",
              "      <th>movie_id</th>\n",
              "      <th>movie_name</th>\n",
              "      <th>plot</th>\n",
              "      <th>genre</th>\n",
              "    </tr>\n",
              "  </thead>\n",
              "  <tbody>\n",
              "    <tr>\n",
              "      <th>0</th>\n",
              "      <td>23890098</td>\n",
              "      <td>Taxi Blues</td>\n",
              "      <td>Shlykov, a hard-working taxi driver and Lyosha...</td>\n",
              "      <td>['World cinema', 'Drama']</td>\n",
              "    </tr>\n",
              "    <tr>\n",
              "      <th>1</th>\n",
              "      <td>31186339</td>\n",
              "      <td>The Hunger Games</td>\n",
              "      <td>The nation of Panem consists of a wealthy Capi...</td>\n",
              "      <td>['Action/Adventure', 'Action', 'Science Fictio...</td>\n",
              "    </tr>\n",
              "    <tr>\n",
              "      <th>2</th>\n",
              "      <td>20663735</td>\n",
              "      <td>Narasimham</td>\n",
              "      <td>Poovalli Induchoodan  is sentenced for six yea...</td>\n",
              "      <td>['Musical', 'Action', 'Drama']</td>\n",
              "    </tr>\n",
              "    <tr>\n",
              "      <th>3</th>\n",
              "      <td>2231378</td>\n",
              "      <td>The Lemon Drop Kid</td>\n",
              "      <td>The Lemon Drop Kid , a New York City swindler,...</td>\n",
              "      <td>['Comedy']</td>\n",
              "    </tr>\n",
              "    <tr>\n",
              "      <th>4</th>\n",
              "      <td>595909</td>\n",
              "      <td>A Cry in the Dark</td>\n",
              "      <td>Seventh-day Adventist Church pastor Michael Ch...</td>\n",
              "      <td>['Crime Fiction', 'World cinema', 'Drama']</td>\n",
              "    </tr>\n",
              "  </tbody>\n",
              "</table>\n",
              "</div>"
            ],
            "text/plain": [
              "   movie_id  ...                                              genre\n",
              "0  23890098  ...                          ['World cinema', 'Drama']\n",
              "1  31186339  ...  ['Action/Adventure', 'Action', 'Science Fictio...\n",
              "2  20663735  ...                     ['Musical', 'Action', 'Drama']\n",
              "3   2231378  ...                                         ['Comedy']\n",
              "4    595909  ...         ['Crime Fiction', 'World cinema', 'Drama']\n",
              "\n",
              "[5 rows x 4 columns]"
            ]
          },
          "metadata": {
            "tags": []
          },
          "execution_count": 77
        }
      ]
    },
    {
      "cell_type": "code",
      "metadata": {
        "id": "UH1YL1RQV3j0",
        "colab_type": "code",
        "colab": {
          "base_uri": "https://localhost:8080/",
          "height": 474
        },
        "outputId": "8c4b50f8-012e-443c-b9a1-528f9ae6e834"
      },
      "source": [
        "sdf1 = spark_session.createDataFrame(df)\n",
        "sdf1.show()"
      ],
      "execution_count": 78,
      "outputs": [
        {
          "output_type": "stream",
          "text": [
            "+--------+--------------------+--------------------+--------------------+\n",
            "|movie_id|          movie_name|                plot|               genre|\n",
            "+--------+--------------------+--------------------+--------------------+\n",
            "|23890098|          Taxi Blues|Shlykov, a hard-w...|['World cinema', ...|\n",
            "|31186339|    The Hunger Games|The nation of Pan...|['Action/Adventur...|\n",
            "|20663735|          Narasimham|Poovalli Induchoo...|['Musical', 'Acti...|\n",
            "| 2231378|  The Lemon Drop Kid|The Lemon Drop Ki...|          ['Comedy']|\n",
            "|  595909|   A Cry in the Dark|Seventh-day Adven...|['Crime Fiction',...|\n",
            "| 5272176|            End Game|The president is ...|['Action/Adventur...|\n",
            "| 1952976|          Dark Water|{{plot}} The film...|['Thriller', 'Dra...|\n",
            "|24225279|                Sing|The story begins ...|           ['Drama']|\n",
            "| 2462689|       Meet John Doe|Infuriated at bei...|['Black-and-white...|\n",
            "|20532852|Destination Meatball|A line of people ...|['Animation', 'Sh...|\n",
            "|15401493|    Husband for Hire|Lola  attempts to...|          ['Comedy']|\n",
            "|18188932|         Up and Down|Milan and Goran a...|['Crime Fiction',...|\n",
            "| 2940516|Ghost In The Noon...|Bumbling pirate c...|          ['Comedy']|\n",
            "| 1480747|       House Party 2|{{plot}} Followin...|          ['Comedy']|\n",
            "|24448645|Forest of the Dam...|Despite Lucy's re...|          ['Horror']|\n",
            "|15072401|Charlie Chan's Se...|Alan Colby, heir ...|['Crime Fiction',...|\n",
            "| 4018288|     The Biggest Fan|Debbie's favorite...|           ['Drama']|\n",
            "| 4596602|      Ashes to Ashes|Ashes to Ashes is...|['Crime Fiction',...|\n",
            "|15224586|        Green Dragon|The film follows ...|  ['Indie', 'Drama']|\n",
            "|15585766|  The Rats of Tobruk|Three friends are...|           ['Drama']|\n",
            "+--------+--------------------+--------------------+--------------------+\n",
            "only showing top 20 rows\n",
            "\n"
          ],
          "name": "stdout"
        }
      ]
    },
    {
      "cell_type": "code",
      "metadata": {
        "id": "FdnH-NBZV8Vh",
        "colab_type": "code",
        "colab": {}
      },
      "source": [
        "from pyspark.sql.functions import *\n",
        "new= sdf1.withColumn('plot', regexp_replace('plot', '[{.*}]', ''))\\\n",
        "            .withColumn('plot', regexp_replace('plot', 'plot', '')) \\\n",
        "            .withColumn('plot', regexp_replace('plot', '[\\(\\)]',''))\\\n",
        "            .withColumn('plot', regexp_replace('plot', '[\\[\\]]', '')) \\\n",
        "            .withColumn('genre', regexp_replace('genre', '[\\[\\]]', '')) \\\n",
        "            .withColumn('plot', regexp_replace('plot',',',''))\\\n",
        "            .withColumn('genre', regexp_replace('genre', '[\\']', ''))\\\n",
        "            .withColumn('genre', regexp_replace('genre',' ', ''))"
      ],
      "execution_count": 0,
      "outputs": []
    },
    {
      "cell_type": "code",
      "metadata": {
        "id": "8ey1weaMV-s6",
        "colab_type": "code",
        "colab": {
          "base_uri": "https://localhost:8080/",
          "height": 474
        },
        "outputId": "5374bd19-9f6d-4a40-8cdc-d602474ebe96"
      },
      "source": [
        "sdf1 = new\n",
        "#sdf1 = new1\n",
        "sdf1.show()"
      ],
      "execution_count": 80,
      "outputs": [
        {
          "output_type": "stream",
          "text": [
            "+--------+--------------------+--------------------+--------------------+\n",
            "|movie_id|          movie_name|                plot|               genre|\n",
            "+--------+--------------------+--------------------+--------------------+\n",
            "|23890098|          Taxi Blues|Shlykov a hard-wo...|   Worldcinema,Drama|\n",
            "|31186339|    The Hunger Games|The nation of Pan...|Action/Adventure,...|\n",
            "|20663735|          Narasimham|Poovalli Induchoo...|Musical,Action,Drama|\n",
            "| 2231378|  The Lemon Drop Kid|The Lemon Drop Ki...|              Comedy|\n",
            "|  595909|   A Cry in the Dark|Seventh-day Adven...|CrimeFiction,Worl...|\n",
            "| 5272176|            End Game|The president is ...|Action/Adventure,...|\n",
            "| 1952976|          Dark Water| The film opens i...|Thriller,Drama,Ho...|\n",
            "|24225279|                Sing|The story begins ...|               Drama|\n",
            "| 2462689|       Meet John Doe|Infuriated at bei...|Black-and-white,C...|\n",
            "|20532852|Destination Meatball|A line of people ...|Animation,ShortFi...|\n",
            "|15401493|    Husband for Hire|Lola  attempts to...|              Comedy|\n",
            "|18188932|         Up and Down|Milan and Goran a...|CrimeFiction,Come...|\n",
            "| 2940516|Ghost In The Noon...|Bumbling pirate c...|              Comedy|\n",
            "| 1480747|       House Party 2| Following the su...|              Comedy|\n",
            "|24448645|Forest of the Dam...|Despite Lucy's re...|              Horror|\n",
            "|15072401|Charlie Chan's Se...|Alan Colby heir t...|CrimeFiction,Thri...|\n",
            "| 4018288|     The Biggest Fan|Debbie's favorite...|               Drama|\n",
            "| 4596602|      Ashes to Ashes|Ashes to Ashes is...|CrimeFiction,Acti...|\n",
            "|15224586|        Green Dragon|The film follows ...|         Indie,Drama|\n",
            "|15585766|  The Rats of Tobruk|Three friends are...|               Drama|\n",
            "+--------+--------------------+--------------------+--------------------+\n",
            "only showing top 20 rows\n",
            "\n"
          ],
          "name": "stdout"
        }
      ]
    },
    {
      "cell_type": "code",
      "metadata": {
        "id": "2T5jz7uMWFVi",
        "colab_type": "code",
        "colab": {
          "base_uri": "https://localhost:8080/",
          "height": 457
        },
        "outputId": "033dcead-437f-4de8-9fbb-955738fb4c11"
      },
      "source": [
        "import pyspark.sql.types as types\n",
        "sdf2 = spark_session.read.csv(\"/content/gdrive/My Drive/Colab Notebooks/mapping.csv\", sep = ',', escape='\"', enforceSchema='true', header = 'true')\n",
        "sdf2.show()"
      ],
      "execution_count": 81,
      "outputs": [
        {
          "output_type": "stream",
          "text": [
            "+---+----------------+\n",
            "|_c0|               0|\n",
            "+---+----------------+\n",
            "|  0|           Drama|\n",
            "|  1|          Comedy|\n",
            "|  2|    Romance Film|\n",
            "|  3|        Thriller|\n",
            "|  4|          Action|\n",
            "|  5|    World cinema|\n",
            "|  6|   Crime Fiction|\n",
            "|  7|          Horror|\n",
            "|  8| Black-and-white|\n",
            "|  9|           Indie|\n",
            "| 10|Action/Adventure|\n",
            "| 11|       Adventure|\n",
            "| 12|     Family Film|\n",
            "| 13|      Short Film|\n",
            "| 14|  Romantic drama|\n",
            "| 15|       Animation|\n",
            "| 16|         Musical|\n",
            "| 17| Science Fiction|\n",
            "| 18|         Mystery|\n",
            "| 19| Romantic comedy|\n",
            "+---+----------------+\n",
            "\n"
          ],
          "name": "stdout"
        }
      ]
    },
    {
      "cell_type": "code",
      "metadata": {
        "id": "ERcyxPk1XeDq",
        "colab_type": "code",
        "colab": {
          "base_uri": "https://localhost:8080/",
          "height": 457
        },
        "outputId": "319c69ce-d03c-4876-f76f-53da19283547"
      },
      "source": [
        "sdf2 = sdf2.withColumnRenamed('_c0','id')\\\n",
        "    .withColumnRenamed('0', 'genres')\n",
        "sdf2.show()"
      ],
      "execution_count": 82,
      "outputs": [
        {
          "output_type": "stream",
          "text": [
            "+---+----------------+\n",
            "| id|          genres|\n",
            "+---+----------------+\n",
            "|  0|           Drama|\n",
            "|  1|          Comedy|\n",
            "|  2|    Romance Film|\n",
            "|  3|        Thriller|\n",
            "|  4|          Action|\n",
            "|  5|    World cinema|\n",
            "|  6|   Crime Fiction|\n",
            "|  7|          Horror|\n",
            "|  8| Black-and-white|\n",
            "|  9|           Indie|\n",
            "| 10|Action/Adventure|\n",
            "| 11|       Adventure|\n",
            "| 12|     Family Film|\n",
            "| 13|      Short Film|\n",
            "| 14|  Romantic drama|\n",
            "| 15|       Animation|\n",
            "| 16|         Musical|\n",
            "| 17| Science Fiction|\n",
            "| 18|         Mystery|\n",
            "| 19| Romantic comedy|\n",
            "+---+----------------+\n",
            "\n"
          ],
          "name": "stdout"
        }
      ]
    },
    {
      "cell_type": "code",
      "metadata": {
        "id": "zjiZk2GKXiTE",
        "colab_type": "code",
        "colab": {
          "base_uri": "https://localhost:8080/",
          "height": 457
        },
        "outputId": "1b1b2730-5b0d-441c-eb3c-4e67ae8f35b6"
      },
      "source": [
        "sdf2 = sdf2.withColumn('genres', regexp_replace('genres',' ',''))\n",
        "sdf2.show()"
      ],
      "execution_count": 83,
      "outputs": [
        {
          "output_type": "stream",
          "text": [
            "+---+----------------+\n",
            "| id|          genres|\n",
            "+---+----------------+\n",
            "|  0|           Drama|\n",
            "|  1|          Comedy|\n",
            "|  2|     RomanceFilm|\n",
            "|  3|        Thriller|\n",
            "|  4|          Action|\n",
            "|  5|     Worldcinema|\n",
            "|  6|    CrimeFiction|\n",
            "|  7|          Horror|\n",
            "|  8| Black-and-white|\n",
            "|  9|           Indie|\n",
            "| 10|Action/Adventure|\n",
            "| 11|       Adventure|\n",
            "| 12|      FamilyFilm|\n",
            "| 13|       ShortFilm|\n",
            "| 14|   Romanticdrama|\n",
            "| 15|       Animation|\n",
            "| 16|         Musical|\n",
            "| 17|  ScienceFiction|\n",
            "| 18|         Mystery|\n",
            "| 19|  Romanticcomedy|\n",
            "+---+----------------+\n",
            "\n"
          ],
          "name": "stdout"
        }
      ]
    },
    {
      "cell_type": "code",
      "metadata": {
        "id": "ROAVeuTuXlYG",
        "colab_type": "code",
        "colab": {
          "base_uri": "https://localhost:8080/",
          "height": 34
        },
        "outputId": "7dae9cc4-9d6c-4058-ad40-6c7836ce2ab2"
      },
      "source": [
        "vals = sdf2.select('genres').collect()\n",
        "print(vals[0])"
      ],
      "execution_count": 84,
      "outputs": [
        {
          "output_type": "stream",
          "text": [
            "Row(genres='Drama')\n"
          ],
          "name": "stdout"
        }
      ]
    },
    {
      "cell_type": "code",
      "metadata": {
        "id": "H490BIlwCxU-",
        "colab_type": "code",
        "colab": {
          "base_uri": "https://localhost:8080/",
          "height": 369
        },
        "outputId": "66f610f1-2583-4e07-ce3b-95e39fbc7af6"
      },
      "source": [
        "genre_list = []\n",
        "for i in range(len(vals)):\n",
        "    genre_list.append(vals[i].asDict()['genres'])\n",
        "genre_list"
      ],
      "execution_count": 85,
      "outputs": [
        {
          "output_type": "execute_result",
          "data": {
            "text/plain": [
              "['Drama',\n",
              " 'Comedy',\n",
              " 'RomanceFilm',\n",
              " 'Thriller',\n",
              " 'Action',\n",
              " 'Worldcinema',\n",
              " 'CrimeFiction',\n",
              " 'Horror',\n",
              " 'Black-and-white',\n",
              " 'Indie',\n",
              " 'Action/Adventure',\n",
              " 'Adventure',\n",
              " 'FamilyFilm',\n",
              " 'ShortFilm',\n",
              " 'Romanticdrama',\n",
              " 'Animation',\n",
              " 'Musical',\n",
              " 'ScienceFiction',\n",
              " 'Mystery',\n",
              " 'Romanticcomedy']"
            ]
          },
          "metadata": {
            "tags": []
          },
          "execution_count": 85
        }
      ]
    },
    {
      "cell_type": "code",
      "metadata": {
        "id": "4ALowx3kCz0z",
        "colab_type": "code",
        "colab": {
          "base_uri": "https://localhost:8080/",
          "height": 34
        },
        "outputId": "46b0003d-6ec8-4da1-f1fd-2d029c5ad008"
      },
      "source": [
        "train_genre = sdf1.select('genre').collect()\n",
        "v = train_genre[0].asDict()['genre']\n",
        "v = v.split(\",\")\n",
        "print(v)"
      ],
      "execution_count": 86,
      "outputs": [
        {
          "output_type": "stream",
          "text": [
            "['Worldcinema', 'Drama']\n"
          ],
          "name": "stdout"
        }
      ]
    },
    {
      "cell_type": "code",
      "metadata": {
        "id": "zwQL-fRXDR-i",
        "colab_type": "code",
        "colab": {}
      },
      "source": [
        "from pyspark.sql.functions import udf\n",
        "from pyspark.sql.types import *\n",
        "import numpy as np\n",
        "\n",
        "def generate_one_hot_encoding(genre):\n",
        "    v = genre.split(\",\")\n",
        "    encoding = np.zeros(len(genre_list))\n",
        "    for i in range(len(v)):\n",
        "        for j in range(len(genre_list)):\n",
        "            if v[i] == genre_list[j]:\n",
        "                encoding[j] = 1 \n",
        "            else:\n",
        "                pass\n",
        "    \n",
        "    \n",
        "    encoding = encoding.tolist()\n",
        "    return encoding"
      ],
      "execution_count": 0,
      "outputs": []
    },
    {
      "cell_type": "code",
      "metadata": {
        "id": "_rEXGXZwDjGt",
        "colab_type": "code",
        "colab": {
          "base_uri": "https://localhost:8080/",
          "height": 474
        },
        "outputId": "ff0cb4e1-005d-494b-ec31-adddc5e84b0a"
      },
      "source": [
        "import pyspark.sql.types as types\n",
        "udffunc = udf(generate_one_hot_encoding, types.ArrayType(FloatType()))\n",
        "new_sdf = sdf1.withColumn('encoding', udffunc('genre')) \n",
        "new_sdf.show()"
      ],
      "execution_count": 88,
      "outputs": [
        {
          "output_type": "stream",
          "text": [
            "+--------+--------------------+--------------------+--------------------+--------------------+\n",
            "|movie_id|          movie_name|                plot|               genre|            encoding|\n",
            "+--------+--------------------+--------------------+--------------------+--------------------+\n",
            "|23890098|          Taxi Blues|Shlykov a hard-wo...|   Worldcinema,Drama|[1.0, 0.0, 0.0, 0...|\n",
            "|31186339|    The Hunger Games|The nation of Pan...|Action/Adventure,...|[1.0, 0.0, 0.0, 0...|\n",
            "|20663735|          Narasimham|Poovalli Induchoo...|Musical,Action,Drama|[1.0, 0.0, 0.0, 0...|\n",
            "| 2231378|  The Lemon Drop Kid|The Lemon Drop Ki...|              Comedy|[0.0, 1.0, 0.0, 0...|\n",
            "|  595909|   A Cry in the Dark|Seventh-day Adven...|CrimeFiction,Worl...|[1.0, 0.0, 0.0, 0...|\n",
            "| 5272176|            End Game|The president is ...|Action/Adventure,...|[1.0, 0.0, 0.0, 1...|\n",
            "| 1952976|          Dark Water| The film opens i...|Thriller,Drama,Ho...|[1.0, 0.0, 0.0, 1...|\n",
            "|24225279|                Sing|The story begins ...|               Drama|[1.0, 0.0, 0.0, 0...|\n",
            "| 2462689|       Meet John Doe|Infuriated at bei...|Black-and-white,C...|[1.0, 1.0, 1.0, 0...|\n",
            "|20532852|Destination Meatball|A line of people ...|Animation,ShortFi...|[0.0, 0.0, 0.0, 0...|\n",
            "|15401493|    Husband for Hire|Lola  attempts to...|              Comedy|[0.0, 1.0, 0.0, 0...|\n",
            "|18188932|         Up and Down|Milan and Goran a...|CrimeFiction,Come...|[1.0, 1.0, 0.0, 0...|\n",
            "| 2940516|Ghost In The Noon...|Bumbling pirate c...|              Comedy|[0.0, 1.0, 0.0, 0...|\n",
            "| 1480747|       House Party 2| Following the su...|              Comedy|[0.0, 1.0, 0.0, 0...|\n",
            "|24448645|Forest of the Dam...|Despite Lucy's re...|              Horror|[0.0, 0.0, 0.0, 0...|\n",
            "|15072401|Charlie Chan's Se...|Alan Colby heir t...|CrimeFiction,Thri...|[0.0, 0.0, 0.0, 1...|\n",
            "| 4018288|     The Biggest Fan|Debbie's favorite...|               Drama|[1.0, 0.0, 0.0, 0...|\n",
            "| 4596602|      Ashes to Ashes|Ashes to Ashes is...|CrimeFiction,Acti...|[0.0, 0.0, 1.0, 1...|\n",
            "|15224586|        Green Dragon|The film follows ...|         Indie,Drama|[1.0, 0.0, 0.0, 0...|\n",
            "|15585766|  The Rats of Tobruk|Three friends are...|               Drama|[1.0, 0.0, 0.0, 0...|\n",
            "+--------+--------------------+--------------------+--------------------+--------------------+\n",
            "only showing top 20 rows\n",
            "\n"
          ],
          "name": "stdout"
        }
      ]
    },
    {
      "cell_type": "code",
      "metadata": {
        "id": "-TLM9mW1D2T_",
        "colab_type": "code",
        "colab": {}
      },
      "source": [
        "from pyspark.ml.feature import Tokenizer, StopWordsRemover\n",
        "tokenizer = Tokenizer(inputCol='plot', outputCol='plottokens')\n",
        "new_sdf = tokenizer.transform(new_sdf)\n",
        "remover = StopWordsRemover(inputCol = 'plottokens', outputCol = 'plottokensclean')\n",
        "new_sdf = remover.transform(new_sdf)"
      ],
      "execution_count": 0,
      "outputs": []
    },
    {
      "cell_type": "code",
      "metadata": {
        "id": "rkPq_o2FEJ8V",
        "colab_type": "code",
        "colab": {}
      },
      "source": [
        "new_sdf = new_sdf.drop('plottokens')"
      ],
      "execution_count": 0,
      "outputs": []
    },
    {
      "cell_type": "code",
      "metadata": {
        "id": "UGuwKMx_EMx_",
        "colab_type": "code",
        "colab": {
          "base_uri": "https://localhost:8080/",
          "height": 474
        },
        "outputId": "dd85be2c-bf74-429b-ad87-9c85d0cff819"
      },
      "source": [
        "new_sdf.schema\n",
        "new_sdf.show()"
      ],
      "execution_count": 91,
      "outputs": [
        {
          "output_type": "stream",
          "text": [
            "+--------+--------------------+--------------------+--------------------+--------------------+--------------------+\n",
            "|movie_id|          movie_name|                plot|               genre|            encoding|     plottokensclean|\n",
            "+--------+--------------------+--------------------+--------------------+--------------------+--------------------+\n",
            "|23890098|          Taxi Blues|Shlykov a hard-wo...|   Worldcinema,Drama|[1.0, 0.0, 0.0, 0...|[shlykov, hard-wo...|\n",
            "|31186339|    The Hunger Games|The nation of Pan...|Action/Adventure,...|[1.0, 0.0, 0.0, 0...|[nation, panem, c...|\n",
            "|20663735|          Narasimham|Poovalli Induchoo...|Musical,Action,Drama|[1.0, 0.0, 0.0, 0...|[poovalli, induch...|\n",
            "| 2231378|  The Lemon Drop Kid|The Lemon Drop Ki...|              Comedy|[0.0, 1.0, 0.0, 0...|[lemon, drop, kid...|\n",
            "|  595909|   A Cry in the Dark|Seventh-day Adven...|CrimeFiction,Worl...|[1.0, 0.0, 0.0, 0...|[seventh-day, adv...|\n",
            "| 5272176|            End Game|The president is ...|Action/Adventure,...|[1.0, 0.0, 0.0, 1...|[president, way, ...|\n",
            "| 1952976|          Dark Water| The film opens i...|Thriller,Drama,Ho...|[1.0, 0.0, 0.0, 1...|[, film, opens, 1...|\n",
            "|24225279|                Sing|The story begins ...|               Drama|[1.0, 0.0, 0.0, 0...|[story, begins, h...|\n",
            "| 2462689|       Meet John Doe|Infuriated at bei...|Black-and-white,C...|[1.0, 1.0, 1.0, 0...|[infuriated, told...|\n",
            "|20532852|Destination Meatball|A line of people ...|Animation,ShortFi...|[0.0, 0.0, 0.0, 0...|[line, people, , ...|\n",
            "|15401493|    Husband for Hire|Lola  attempts to...|              Comedy|[0.0, 1.0, 0.0, 0...|[lola, , attempts...|\n",
            "|18188932|         Up and Down|Milan and Goran a...|CrimeFiction,Come...|[1.0, 1.0, 0.0, 0...|[milan, goran, tw...|\n",
            "| 2940516|Ghost In The Noon...|Bumbling pirate c...|              Comedy|[0.0, 1.0, 0.0, 0...|[bumbling, pirate...|\n",
            "| 1480747|       House Party 2| Following the su...|              Comedy|[0.0, 1.0, 0.0, 0...|[, following, sud...|\n",
            "|24448645|Forest of the Dam...|Despite Lucy's re...|              Horror|[0.0, 0.0, 0.0, 0...|[despite, lucy's,...|\n",
            "|15072401|Charlie Chan's Se...|Alan Colby heir t...|CrimeFiction,Thri...|[0.0, 0.0, 0.0, 1...|[alan, colby, hei...|\n",
            "| 4018288|     The Biggest Fan|Debbie's favorite...|               Drama|[1.0, 0.0, 0.0, 0...|[debbie's, favori...|\n",
            "| 4596602|      Ashes to Ashes|Ashes to Ashes is...|CrimeFiction,Acti...|[0.0, 0.0, 1.0, 1...|[ashes, ashes, se...|\n",
            "|15224586|        Green Dragon|The film follows ...|         Indie,Drama|[1.0, 0.0, 0.0, 0...|[film, follows, e...|\n",
            "|15585766|  The Rats of Tobruk|Three friends are...|               Drama|[1.0, 0.0, 0.0, 0...|[three, friends, ...|\n",
            "+--------+--------------------+--------------------+--------------------+--------------------+--------------------+\n",
            "only showing top 20 rows\n",
            "\n"
          ],
          "name": "stdout"
        }
      ]
    },
    {
      "cell_type": "code",
      "metadata": {
        "id": "dX-jLySHEaw4",
        "colab_type": "code",
        "colab": {
          "base_uri": "https://localhost:8080/",
          "height": 474
        },
        "outputId": "1d28b11a-4611-40b1-fa8f-3b91de801668"
      },
      "source": [
        "sdf3 = spark_session.read.csv(\"/content/gdrive/My Drive/Colab Notebooks/test.csv\", sep = ',', escape='\"', enforceSchema='true', header = 'true')\n",
        "sdf3.show()"
      ],
      "execution_count": 92,
      "outputs": [
        {
          "output_type": "stream",
          "text": [
            "+--------+--------------------+--------------------+\n",
            "|movie_id|          movie_name|                plot|\n",
            "+--------+--------------------+--------------------+\n",
            "| 1335380|              Exodus|The film is based...|\n",
            "|29062594|A la salida nos v...|A group of teenag...|\n",
            "| 9252321|   Come Back, Africa|This story of a Z...|\n",
            "|13455076|       A Merry Mixup|The Stooges play ...|\n",
            "|24165951|        Getting Even|A soldier-of-fort...|\n",
            "| 1925869|  River of No Return|Set in the Northw...|\n",
            "|10799612|          Amici miei|Like in many othe...|\n",
            "|28238240|Mickey's Big Game...|Mickey and the Sc...|\n",
            "|17124781|The Good, the Bad...|In the desert wil...|\n",
            "|28207941|    The Dancing Fool|Bimbo and Koko ar...|\n",
            "|19174305|              Tahaan|Tahaan  lives wit...|\n",
            "|18392317|     Mysterious Mose|Betty is startled...|\n",
            "|34420857|Kelviyum Naane Pa...|Nirmal ([[Karthik...|\n",
            "| 4039635|   First on the Moon|A group of journa...|\n",
            "| 8034072|  Journey of a Woman|Vaibhavari Sahay,...|\n",
            "| 4016437|     Sophie's Choice|In 1947, the movi...|\n",
            "| 1520023|  Ninja Resurrection|Ninja Resurrectio...|\n",
            "|24589422|      Maria’s Lovers|In the spring of ...|\n",
            "|35068740|           Chinnavar|Muthu ([[Prabhu  ...|\n",
            "|21132951|              Aparan|Vishwanathan , an...|\n",
            "+--------+--------------------+--------------------+\n",
            "only showing top 20 rows\n",
            "\n"
          ],
          "name": "stdout"
        }
      ]
    },
    {
      "cell_type": "code",
      "metadata": {
        "id": "MH5w9UU4Eqhg",
        "colab_type": "code",
        "colab": {
          "base_uri": "https://localhost:8080/",
          "height": 474
        },
        "outputId": "db1477e8-4063-46e4-e061-485828d4487e"
      },
      "source": [
        "new3 = sdf3.withColumn('plot', regexp_replace('plot', '[{.*}]', ''))\\\n",
        "            .withColumn('plot', regexp_replace('plot', 'plot', '')) \\\n",
        "            .withColumn('plot', regexp_replace('plot', '[\\(\\)]',''))\\\n",
        "            .withColumn('plot', regexp_replace('plot', '[\\[\\]]',''))\n",
        "sdf3 = new3\n",
        "sdf3.show()"
      ],
      "execution_count": 93,
      "outputs": [
        {
          "output_type": "stream",
          "text": [
            "+--------+--------------------+--------------------+\n",
            "|movie_id|          movie_name|                plot|\n",
            "+--------+--------------------+--------------------+\n",
            "| 1335380|              Exodus|The film is based...|\n",
            "|29062594|A la salida nos v...|A group of teenag...|\n",
            "| 9252321|   Come Back, Africa|This story of a Z...|\n",
            "|13455076|       A Merry Mixup|The Stooges play ...|\n",
            "|24165951|        Getting Even|A soldier-of-fort...|\n",
            "| 1925869|  River of No Return|Set in the Northw...|\n",
            "|10799612|          Amici miei|Like in many othe...|\n",
            "|28238240|Mickey's Big Game...|Mickey and the Sc...|\n",
            "|17124781|The Good, the Bad...|In the desert wil...|\n",
            "|28207941|    The Dancing Fool|Bimbo and Koko ar...|\n",
            "|19174305|              Tahaan|Tahaan  lives wit...|\n",
            "|18392317|     Mysterious Mose|Betty is startled...|\n",
            "|34420857|Kelviyum Naane Pa...|Nirmal Karthik  t...|\n",
            "| 4039635|   First on the Moon|A group of journa...|\n",
            "| 8034072|  Journey of a Woman|Vaibhavari Sahay,...|\n",
            "| 4016437|     Sophie's Choice|In 1947, the movi...|\n",
            "| 1520023|  Ninja Resurrection|Ninja Resurrectio...|\n",
            "|24589422|      Maria’s Lovers|In the spring of ...|\n",
            "|35068740|           Chinnavar|Muthu Prabhu  and...|\n",
            "|21132951|              Aparan|Vishwanathan , an...|\n",
            "+--------+--------------------+--------------------+\n",
            "only showing top 20 rows\n",
            "\n"
          ],
          "name": "stdout"
        }
      ]
    },
    {
      "cell_type": "code",
      "metadata": {
        "id": "IcAB6PrxEsq2",
        "colab_type": "code",
        "colab": {
          "base_uri": "https://localhost:8080/",
          "height": 474
        },
        "outputId": "2f44aa4e-3791-414a-86e7-2f7385f53ed3"
      },
      "source": [
        "sdf3 = tokenizer.transform(sdf3)\n",
        "sdf3 = remover.transform(sdf3)\n",
        "sdf3.show()"
      ],
      "execution_count": 94,
      "outputs": [
        {
          "output_type": "stream",
          "text": [
            "+--------+--------------------+--------------------+--------------------+--------------------+\n",
            "|movie_id|          movie_name|                plot|          plottokens|     plottokensclean|\n",
            "+--------+--------------------+--------------------+--------------------+--------------------+\n",
            "| 1335380|              Exodus|The film is based...|[the, film, is, b...|[film, based, eve...|\n",
            "|29062594|A la salida nos v...|A group of teenag...|[a, group, of, te...|[group, teenagers...|\n",
            "| 9252321|   Come Back, Africa|This story of a Z...|[this, story, of,...|[story, zulu, fam...|\n",
            "|13455076|       A Merry Mixup|The Stooges play ...|[the, stooges, pl...|[stooges, play, t...|\n",
            "|24165951|        Getting Even|A soldier-of-fort...|[a, soldier-of-fo...|[soldier-of-fortu...|\n",
            "| 1925869|  River of No Return|Set in the Northw...|[set, in, the, no...|[set, northwester...|\n",
            "|10799612|          Amici miei|Like in many othe...|[like, in, many, ...|[like, many, moni...|\n",
            "|28238240|Mickey's Big Game...|Mickey and the Sc...|[mickey, and, the...|[mickey, scorpion...|\n",
            "|17124781|The Good, the Bad...|In the desert wil...|[in, the, desert,...|[desert, wilderne...|\n",
            "|28207941|    The Dancing Fool|Bimbo and Koko ar...|[bimbo, and, koko...|[bimbo, koko, sig...|\n",
            "|19174305|              Tahaan|Tahaan  lives wit...|[tahaan, , lives,...|[tahaan, , lives,...|\n",
            "|18392317|     Mysterious Mose|Betty is startled...|[betty, is, start...|[betty, startled,...|\n",
            "|34420857|Kelviyum Naane Pa...|Nirmal Karthik  t...|[nirmal, karthik,...|[nirmal, karthik,...|\n",
            "| 4039635|   First on the Moon|A group of journa...|[a, group, of, jo...|[group, journalis...|\n",
            "| 8034072|  Journey of a Woman|Vaibhavari Sahay,...|[vaibhavari, saha...|[vaibhavari, saha...|\n",
            "| 4016437|     Sophie's Choice|In 1947, the movi...|[in, 1947,, the, ...|[1947,, movie's, ...|\n",
            "| 1520023|  Ninja Resurrection|Ninja Resurrectio...|[ninja, resurrect...|[ninja, resurrect...|\n",
            "|24589422|      Maria’s Lovers|In the spring of ...|[in, the, spring,...|[spring, 1946,, i...|\n",
            "|35068740|           Chinnavar|Muthu Prabhu  and...|[muthu, prabhu, ,...|[muthu, prabhu, ,...|\n",
            "|21132951|              Aparan|Vishwanathan , an...|[vishwanathan, ,,...|[vishwanathan, ,,...|\n",
            "+--------+--------------------+--------------------+--------------------+--------------------+\n",
            "only showing top 20 rows\n",
            "\n"
          ],
          "name": "stdout"
        }
      ]
    },
    {
      "cell_type": "code",
      "metadata": {
        "id": "ONKX90_BEvRs",
        "colab_type": "code",
        "colab": {
          "base_uri": "https://localhost:8080/",
          "height": 474
        },
        "outputId": "279eca3e-4cf9-4973-c813-22d80126ff04"
      },
      "source": [
        "sdf3 = sdf3.drop('plottokens')\n",
        "sdf3.show()"
      ],
      "execution_count": 95,
      "outputs": [
        {
          "output_type": "stream",
          "text": [
            "+--------+--------------------+--------------------+--------------------+\n",
            "|movie_id|          movie_name|                plot|     plottokensclean|\n",
            "+--------+--------------------+--------------------+--------------------+\n",
            "| 1335380|              Exodus|The film is based...|[film, based, eve...|\n",
            "|29062594|A la salida nos v...|A group of teenag...|[group, teenagers...|\n",
            "| 9252321|   Come Back, Africa|This story of a Z...|[story, zulu, fam...|\n",
            "|13455076|       A Merry Mixup|The Stooges play ...|[stooges, play, t...|\n",
            "|24165951|        Getting Even|A soldier-of-fort...|[soldier-of-fortu...|\n",
            "| 1925869|  River of No Return|Set in the Northw...|[set, northwester...|\n",
            "|10799612|          Amici miei|Like in many othe...|[like, many, moni...|\n",
            "|28238240|Mickey's Big Game...|Mickey and the Sc...|[mickey, scorpion...|\n",
            "|17124781|The Good, the Bad...|In the desert wil...|[desert, wilderne...|\n",
            "|28207941|    The Dancing Fool|Bimbo and Koko ar...|[bimbo, koko, sig...|\n",
            "|19174305|              Tahaan|Tahaan  lives wit...|[tahaan, , lives,...|\n",
            "|18392317|     Mysterious Mose|Betty is startled...|[betty, startled,...|\n",
            "|34420857|Kelviyum Naane Pa...|Nirmal Karthik  t...|[nirmal, karthik,...|\n",
            "| 4039635|   First on the Moon|A group of journa...|[group, journalis...|\n",
            "| 8034072|  Journey of a Woman|Vaibhavari Sahay,...|[vaibhavari, saha...|\n",
            "| 4016437|     Sophie's Choice|In 1947, the movi...|[1947,, movie's, ...|\n",
            "| 1520023|  Ninja Resurrection|Ninja Resurrectio...|[ninja, resurrect...|\n",
            "|24589422|      Maria’s Lovers|In the spring of ...|[spring, 1946,, i...|\n",
            "|35068740|           Chinnavar|Muthu Prabhu  and...|[muthu, prabhu, ,...|\n",
            "|21132951|              Aparan|Vishwanathan , an...|[vishwanathan, ,,...|\n",
            "+--------+--------------------+--------------------+--------------------+\n",
            "only showing top 20 rows\n",
            "\n"
          ],
          "name": "stdout"
        }
      ]
    },
    {
      "cell_type": "code",
      "metadata": {
        "id": "B9lCcVSOE2FZ",
        "colab_type": "code",
        "colab": {}
      },
      "source": [
        "for i in range(len(genre_list)):\n",
        "    new_sdf = new_sdf.withColumn(\"col{}\".format(i),new_sdf['encoding'].getItem(i))"
      ],
      "execution_count": 0,
      "outputs": []
    },
    {
      "cell_type": "code",
      "metadata": {
        "id": "EPtdDF-WE3Ug",
        "colab_type": "code",
        "colab": {}
      },
      "source": [
        "from pyspark.ml import Pipeline\n",
        "from pyspark.ml.feature import HashingTF"
      ],
      "execution_count": 0,
      "outputs": []
    },
    {
      "cell_type": "code",
      "metadata": {
        "id": "FLURK4cBI4cb",
        "colab_type": "code",
        "colab": {}
      },
      "source": [
        "def make_and_fit(sdf, inputcol):\n",
        "    hT = HashingTF(inputCol=inputcol, outputCol='plotvectors')\n",
        "    doc2vec_pipeline = Pipeline(stages =[hT] )\n",
        "    doc2vec_model = doc2vec_pipeline.fit(sdf)\n",
        "    return doc2vec_model"
      ],
      "execution_count": 0,
      "outputs": []
    },
    {
      "cell_type": "code",
      "metadata": {
        "id": "ETTT2ayiJH0w",
        "colab_type": "code",
        "colab": {}
      },
      "source": [
        "doc2vec_model = make_and_fit(new_sdf, inputcol=\"plottokensclean\")\n",
        "new_sdf = doc2vec_model.transform(new_sdf)"
      ],
      "execution_count": 0,
      "outputs": []
    },
    {
      "cell_type": "code",
      "metadata": {
        "id": "t-sFVcX_JRkB",
        "colab_type": "code",
        "colab": {
          "base_uri": "https://localhost:8080/",
          "height": 474
        },
        "outputId": "df870dcc-a0c3-4d30-df1a-4bc049eafe30"
      },
      "source": [
        "new_sdf.show()"
      ],
      "execution_count": 100,
      "outputs": [
        {
          "output_type": "stream",
          "text": [
            "+--------+--------------------+--------------------+--------------------+--------------------+--------------------+----+----+----+----+----+----+----+----+----+----+-----+-----+-----+-----+-----+-----+-----+-----+-----+-----+--------------------+\n",
            "|movie_id|          movie_name|                plot|               genre|            encoding|     plottokensclean|col0|col1|col2|col3|col4|col5|col6|col7|col8|col9|col10|col11|col12|col13|col14|col15|col16|col17|col18|col19|         plotvectors|\n",
            "+--------+--------------------+--------------------+--------------------+--------------------+--------------------+----+----+----+----+----+----+----+----+----+----+-----+-----+-----+-----+-----+-----+-----+-----+-----+-----+--------------------+\n",
            "|23890098|          Taxi Blues|Shlykov a hard-wo...|   Worldcinema,Drama|[1.0, 0.0, 0.0, 0...|[shlykov, hard-wo...| 1.0| 0.0| 0.0| 0.0| 0.0| 1.0| 0.0| 0.0| 0.0| 0.0|  0.0|  0.0|  0.0|  0.0|  0.0|  0.0|  0.0|  0.0|  0.0|  0.0|(262144,[12751,14...|\n",
            "|31186339|    The Hunger Games|The nation of Pan...|Action/Adventure,...|[1.0, 0.0, 0.0, 0...|[nation, panem, c...| 1.0| 0.0| 0.0| 0.0| 1.0| 0.0| 0.0| 0.0| 0.0| 0.0|  1.0|  0.0|  0.0|  0.0|  0.0|  0.0|  0.0|  1.0|  0.0|  0.0|(262144,[991,1739...|\n",
            "|20663735|          Narasimham|Poovalli Induchoo...|Musical,Action,Drama|[1.0, 0.0, 0.0, 0...|[poovalli, induch...| 1.0| 0.0| 0.0| 0.0| 1.0| 0.0| 0.0| 0.0| 0.0| 0.0|  0.0|  0.0|  0.0|  0.0|  0.0|  0.0|  1.0|  0.0|  0.0|  0.0|(262144,[119,571,...|\n",
            "| 2231378|  The Lemon Drop Kid|The Lemon Drop Ki...|              Comedy|[0.0, 1.0, 0.0, 0...|[lemon, drop, kid...| 0.0| 1.0| 0.0| 0.0| 0.0| 0.0| 0.0| 0.0| 0.0| 0.0|  0.0|  0.0|  0.0|  0.0|  0.0|  0.0|  0.0|  0.0|  0.0|  0.0|(262144,[619,1998...|\n",
            "|  595909|   A Cry in the Dark|Seventh-day Adven...|CrimeFiction,Worl...|[1.0, 0.0, 0.0, 0...|[seventh-day, adv...| 1.0| 0.0| 0.0| 0.0| 0.0| 1.0| 1.0| 0.0| 0.0| 0.0|  0.0|  0.0|  0.0|  0.0|  0.0|  0.0|  0.0|  0.0|  0.0|  0.0|(262144,[1911,243...|\n",
            "| 5272176|            End Game|The president is ...|Action/Adventure,...|[1.0, 0.0, 0.0, 1...|[president, way, ...| 1.0| 0.0| 0.0| 1.0| 1.0| 0.0| 0.0| 0.0| 0.0| 0.0|  1.0|  0.0|  0.0|  0.0|  0.0|  0.0|  0.0|  0.0|  0.0|  0.0|(262144,[571,4977...|\n",
            "| 1952976|          Dark Water| The film opens i...|Thriller,Drama,Ho...|[1.0, 0.0, 0.0, 1...|[, film, opens, 1...| 1.0| 0.0| 0.0| 1.0| 0.0| 0.0| 0.0| 1.0| 0.0| 0.0|  0.0|  0.0|  0.0|  0.0|  0.0|  0.0|  0.0|  0.0|  0.0|  0.0|(262144,[343,3294...|\n",
            "|24225279|                Sing|The story begins ...|               Drama|[1.0, 0.0, 0.0, 0...|[story, begins, h...| 1.0| 0.0| 0.0| 0.0| 0.0| 0.0| 0.0| 0.0| 0.0| 0.0|  0.0|  0.0|  0.0|  0.0|  0.0|  0.0|  0.0|  0.0|  0.0|  0.0|(262144,[1495,243...|\n",
            "| 2462689|       Meet John Doe|Infuriated at bei...|Black-and-white,C...|[1.0, 1.0, 1.0, 0...|[infuriated, told...| 1.0| 1.0| 1.0| 0.0| 0.0| 0.0| 0.0| 0.0| 1.0| 0.0|  0.0|  0.0|  0.0|  0.0|  0.0|  0.0|  0.0|  0.0|  0.0|  1.0|(262144,[1156,433...|\n",
            "|20532852|Destination Meatball|A line of people ...|Animation,ShortFi...|[0.0, 0.0, 0.0, 0...|[line, people, , ...| 0.0| 0.0| 0.0| 0.0| 0.0| 0.0| 0.0| 0.0| 0.0| 0.0|  0.0|  0.0|  1.0|  1.0|  0.0|  1.0|  0.0|  0.0|  0.0|  0.0|(262144,[929,3924...|\n",
            "|15401493|    Husband for Hire|Lola  attempts to...|              Comedy|[0.0, 1.0, 0.0, 0...|[lola, , attempts...| 0.0| 1.0| 0.0| 0.0| 0.0| 0.0| 0.0| 0.0| 0.0| 0.0|  0.0|  0.0|  0.0|  0.0|  0.0|  0.0|  0.0|  0.0|  0.0|  0.0|(262144,[1493,409...|\n",
            "|18188932|         Up and Down|Milan and Goran a...|CrimeFiction,Come...|[1.0, 1.0, 0.0, 0...|[milan, goran, tw...| 1.0| 1.0| 0.0| 0.0| 0.0| 1.0| 1.0| 0.0| 0.0| 0.0|  0.0|  0.0|  0.0|  0.0|  0.0|  0.0|  0.0|  0.0|  0.0|  0.0|(262144,[4211,118...|\n",
            "| 2940516|Ghost In The Noon...|Bumbling pirate c...|              Comedy|[0.0, 1.0, 0.0, 0...|[bumbling, pirate...| 0.0| 1.0| 0.0| 0.0| 0.0| 0.0| 0.0| 0.0| 0.0| 0.0|  0.0|  0.0|  0.0|  0.0|  0.0|  0.0|  0.0|  0.0|  0.0|  0.0|(262144,[3617,138...|\n",
            "| 1480747|       House Party 2| Following the su...|              Comedy|[0.0, 1.0, 0.0, 0...|[, following, sud...| 0.0| 1.0| 0.0| 0.0| 0.0| 0.0| 0.0| 0.0| 0.0| 0.0|  0.0|  0.0|  0.0|  0.0|  0.0|  0.0|  0.0|  0.0|  0.0|  0.0|(262144,[14,382,9...|\n",
            "|24448645|Forest of the Dam...|Despite Lucy's re...|              Horror|[0.0, 0.0, 0.0, 0...|[despite, lucy's,...| 0.0| 0.0| 0.0| 0.0| 0.0| 0.0| 0.0| 1.0| 0.0| 0.0|  0.0|  0.0|  0.0|  0.0|  0.0|  0.0|  0.0|  0.0|  0.0|  0.0|(262144,[5463,859...|\n",
            "|15072401|Charlie Chan's Se...|Alan Colby heir t...|CrimeFiction,Thri...|[0.0, 0.0, 0.0, 1...|[alan, colby, hei...| 0.0| 0.0| 0.0| 1.0| 0.0| 0.0| 1.0| 1.0| 0.0| 0.0|  0.0|  0.0|  0.0|  0.0|  0.0|  0.0|  0.0|  0.0|  1.0|  0.0|(262144,[6183,636...|\n",
            "| 4018288|     The Biggest Fan|Debbie's favorite...|               Drama|[1.0, 0.0, 0.0, 0...|[debbie's, favori...| 1.0| 0.0| 0.0| 0.0| 0.0| 0.0| 0.0| 0.0| 0.0| 0.0|  0.0|  0.0|  0.0|  0.0|  0.0|  0.0|  0.0|  0.0|  0.0|  0.0|(262144,[8595,912...|\n",
            "| 4596602|      Ashes to Ashes|Ashes to Ashes is...|CrimeFiction,Acti...|[0.0, 0.0, 1.0, 1...|[ashes, ashes, se...| 0.0| 0.0| 1.0| 1.0| 1.0| 0.0| 1.0| 0.0| 0.0| 1.0|  0.0|  0.0|  0.0|  0.0|  0.0|  0.0|  0.0|  0.0|  0.0|  0.0|(262144,[1245,192...|\n",
            "|15224586|        Green Dragon|The film follows ...|         Indie,Drama|[1.0, 0.0, 0.0, 0...|[film, follows, e...| 1.0| 0.0| 0.0| 0.0| 0.0| 0.0| 0.0| 0.0| 0.0| 1.0|  0.0|  0.0|  0.0|  0.0|  0.0|  0.0|  0.0|  0.0|  0.0|  0.0|(262144,[2559,129...|\n",
            "|15585766|  The Rats of Tobruk|Three friends are...|               Drama|[1.0, 0.0, 0.0, 0...|[three, friends, ...| 1.0| 0.0| 0.0| 0.0| 0.0| 0.0| 0.0| 0.0| 0.0| 0.0|  0.0|  0.0|  0.0|  0.0|  0.0|  0.0|  0.0|  0.0|  0.0|  0.0|(262144,[6084,709...|\n",
            "+--------+--------------------+--------------------+--------------------+--------------------+--------------------+----+----+----+----+----+----+----+----+----+----+-----+-----+-----+-----+-----+-----+-----+-----+-----+-----+--------------------+\n",
            "only showing top 20 rows\n",
            "\n"
          ],
          "name": "stdout"
        }
      ]
    },
    {
      "cell_type": "code",
      "metadata": {
        "id": "tkRf_gpirtsp",
        "colab_type": "code",
        "colab": {}
      },
      "source": [
        "d2v_model = make_and_fit(sdf3, inputcol = \"plottokensclean\")"
      ],
      "execution_count": 0,
      "outputs": []
    },
    {
      "cell_type": "code",
      "metadata": {
        "id": "fJN8Sf3crzbD",
        "colab_type": "code",
        "colab": {
          "base_uri": "https://localhost:8080/",
          "height": 474
        },
        "outputId": "f167f011-e932-4cb8-af34-26a8e728b191"
      },
      "source": [
        "sdf3 = d2v_model.transform(sdf3)\n",
        "sdf3.show()"
      ],
      "execution_count": 105,
      "outputs": [
        {
          "output_type": "stream",
          "text": [
            "+--------+--------------------+--------------------+--------------------+--------------------+\n",
            "|movie_id|          movie_name|                plot|     plottokensclean|         plotvectors|\n",
            "+--------+--------------------+--------------------+--------------------+--------------------+\n",
            "| 1335380|              Exodus|The film is based...|[film, based, eve...|(262144,[1728,261...|\n",
            "|29062594|A la salida nos v...|A group of teenag...|[group, teenagers...|(262144,[6068,191...|\n",
            "| 9252321|   Come Back, Africa|This story of a Z...|[story, zulu, fam...|(262144,[1598,208...|\n",
            "|13455076|       A Merry Mixup|The Stooges play ...|[stooges, play, t...|(262144,[6183,943...|\n",
            "|24165951|        Getting Even|A soldier-of-fort...|[soldier-of-fortu...|(262144,[4098,644...|\n",
            "| 1925869|  River of No Return|Set in the Northw...|[set, northwester...|(262144,[535,3294...|\n",
            "|10799612|          Amici miei|Like in many othe...|[like, many, moni...|(262144,[210,5053...|\n",
            "|28238240|Mickey's Big Game...|Mickey and the Sc...|[mickey, scorpion...|(262144,[23060,30...|\n",
            "|17124781|The Good, the Bad...|In the desert wil...|[desert, wilderne...|(262144,[2820,523...|\n",
            "|28207941|    The Dancing Fool|Bimbo and Koko ar...|[bimbo, koko, sig...|(262144,[5050,972...|\n",
            "|19174305|              Tahaan|Tahaan  lives wit...|[tahaan, , lives,...|(262144,[2710,392...|\n",
            "|18392317|     Mysterious Mose|Betty is startled...|[betty, startled,...|(262144,[2977,521...|\n",
            "|34420857|Kelviyum Naane Pa...|Nirmal Karthik  t...|[nirmal, karthik,...|(262144,[11275,24...|\n",
            "| 4039635|   First on the Moon|A group of journa...|[group, journalis...|(262144,[571,1640...|\n",
            "| 8034072|  Journey of a Woman|Vaibhavari Sahay,...|[vaibhavari, saha...|(262144,[2977,420...|\n",
            "| 4016437|     Sophie's Choice|In 1947, the movi...|[1947,, movie's, ...|(262144,[5595,638...|\n",
            "| 1520023|  Ninja Resurrection|Ninja Resurrectio...|[ninja, resurrect...|(262144,[14,535,5...|\n",
            "|24589422|      Maria’s Lovers|In the spring of ...|[spring, 1946,, i...|(262144,[1998,249...|\n",
            "|35068740|           Chinnavar|Muthu Prabhu  and...|[muthu, prabhu, ,...|(262144,[2710,484...|\n",
            "|21132951|              Aparan|Vishwanathan , an...|[vishwanathan, ,,...|(262144,[1841,392...|\n",
            "+--------+--------------------+--------------------+--------------------+--------------------+\n",
            "only showing top 20 rows\n",
            "\n"
          ],
          "name": "stdout"
        }
      ]
    },
    {
      "cell_type": "code",
      "metadata": {
        "id": "AejwCY4gJkSq",
        "colab_type": "code",
        "colab": {}
      },
      "source": [
        "from pyspark.ml.classification import RandomForestClassifier"
      ],
      "execution_count": 0,
      "outputs": []
    },
    {
      "cell_type": "code",
      "metadata": {
        "id": "qp7B5PNWKV2Q",
        "colab_type": "code",
        "colab": {}
      },
      "source": [
        "def fit_and_classify(sdf, labelcol, featurescol):\n",
        "    rf_classifier = RandomForestClassifier(labelCol = labelcol, featuresCol= featurescol,numTrees=3,maxDepth=2)\n",
        "    rf_classifier_pipeline = Pipeline(stages=[rf_classifier])\n",
        "    rf_model = rf_classifier_pipeline.fit(sdf)\n",
        "    return rf_model"
      ],
      "execution_count": 0,
      "outputs": []
    },
    {
      "cell_type": "code",
      "metadata": {
        "id": "1UlqieD9JLCV",
        "colab_type": "code",
        "colab": {}
      },
      "source": [
        "# Code fragment for testing undersampling\n",
        "l = []\n",
        "for i in range(20):\n",
        "    filter_df = new_sdf.select('movie_id','movie_name', 'plot','genre','plotvectors','col{}'.format(i))\n",
        "#Dividing the filtered_df to check for the ratio\n",
        "    df1 = filter_df.filter(filter_df['col{}'.format(i)] == 1.0)\n",
        "    df2 = filter_df.filter(filter_df['col{}'.format(i)] == 0.0)\n",
        "    if df2.count() > df1.count():\n",
        "        ratio = df2.count() / df1.count()\n",
        "        sampled_df = df2.sample(False, 1/ratio)\n",
        "        final_df = sampled_df.union(df1)\n",
        "    else:\n",
        "        ratio = df1.count() / df2.count()\n",
        "        sampled_df = df1.sample(False, 1/ratio)\n",
        "        final_df = sampled_df.union(df2)\n",
        "    rf_model = fit_and_classify(final_df, labelcol='col{}'.format(i), featurescol='plotvectors')\n",
        "    predictions = rf_model.transform(sdf3)\n",
        "    l.append(predictions.select('movie_id', 'prediction'))"
      ],
      "execution_count": 0,
      "outputs": []
    },
    {
      "cell_type": "code",
      "metadata": {
        "id": "7b_EmFoiGaBN",
        "colab_type": "code",
        "colab": {
          "base_uri": "https://localhost:8080/",
          "height": 34
        },
        "outputId": "2e446dfb-ccfc-4353-f7a0-787bb68fb682"
      },
      "source": [
        "len(l)"
      ],
      "execution_count": 116,
      "outputs": [
        {
          "output_type": "execute_result",
          "data": {
            "text/plain": [
              "20"
            ]
          },
          "metadata": {
            "tags": []
          },
          "execution_count": 116
        }
      ]
    },
    {
      "cell_type": "code",
      "metadata": {
        "id": "54yuyg17GeKe",
        "colab_type": "code",
        "colab": {}
      },
      "source": [
        "for i in range(len(l)):\n",
        "    l[i] = l[i].withColumnRenamed('prediction', 'prediction{}'.format(i))"
      ],
      "execution_count": 0,
      "outputs": []
    },
    {
      "cell_type": "code",
      "metadata": {
        "id": "UdX6eRr3Ghsz",
        "colab_type": "code",
        "colab": {
          "base_uri": "https://localhost:8080/",
          "height": 474
        },
        "outputId": "b21a513a-7324-4d1d-9ede-7a055e17330d"
      },
      "source": [
        "l[18].show()"
      ],
      "execution_count": 118,
      "outputs": [
        {
          "output_type": "stream",
          "text": [
            "+--------+------------+\n",
            "|movie_id|prediction18|\n",
            "+--------+------------+\n",
            "| 1335380|         1.0|\n",
            "|29062594|         0.0|\n",
            "| 9252321|         0.0|\n",
            "|13455076|         0.0|\n",
            "|24165951|         0.0|\n",
            "| 1925869|         1.0|\n",
            "|10799612|         0.0|\n",
            "|28238240|         0.0|\n",
            "|17124781|         0.0|\n",
            "|28207941|         0.0|\n",
            "|19174305|         0.0|\n",
            "|18392317|         0.0|\n",
            "|34420857|         0.0|\n",
            "| 4039635|         0.0|\n",
            "| 8034072|         0.0|\n",
            "| 4016437|         0.0|\n",
            "| 1520023|         0.0|\n",
            "|24589422|         1.0|\n",
            "|35068740|         0.0|\n",
            "|21132951|         0.0|\n",
            "+--------+------------+\n",
            "only showing top 20 rows\n",
            "\n"
          ],
          "name": "stdout"
        }
      ]
    },
    {
      "cell_type": "code",
      "metadata": {
        "id": "FsA9usjqGmTU",
        "colab_type": "code",
        "colab": {}
      },
      "source": [
        "joined_df = l[0]\n",
        "for i in range(1,len(l)):\n",
        "    joined_df = joined_df.join(l[i], on =['movie_id'], how = 'inner' )"
      ],
      "execution_count": 0,
      "outputs": []
    },
    {
      "cell_type": "code",
      "metadata": {
        "id": "-jeo8g6-GquN",
        "colab_type": "code",
        "colab": {}
      },
      "source": [
        "from pyspark.ml.feature import VectorAssembler"
      ],
      "execution_count": 0,
      "outputs": []
    },
    {
      "cell_type": "code",
      "metadata": {
        "id": "xSUFeZDxGtaI",
        "colab_type": "code",
        "colab": {}
      },
      "source": [
        "cols = []\n",
        "for i in range(len(l)):\n",
        "    cols.append('prediction{}'.format(i))"
      ],
      "execution_count": 0,
      "outputs": []
    },
    {
      "cell_type": "code",
      "metadata": {
        "id": "1ecPjxHHGzNu",
        "colab_type": "code",
        "colab": {}
      },
      "source": [
        "vecAssembler = VectorAssembler(inputCols = cols, outputCol = 'predictions')\n",
        "joined_df = vecAssembler.transform(joined_df)"
      ],
      "execution_count": 0,
      "outputs": []
    },
    {
      "cell_type": "code",
      "metadata": {
        "id": "YujvWqlFG3VU",
        "colab_type": "code",
        "colab": {
          "base_uri": "https://localhost:8080/",
          "height": 125
        },
        "outputId": "420eb13d-b25c-403f-8255-5b57b38aeb6e"
      },
      "source": [
        "joined_df.head(5)"
      ],
      "execution_count": 123,
      "outputs": [
        {
          "output_type": "execute_result",
          "data": {
            "text/plain": [
              "[Row(movie_id='1335380', prediction0=0.0, prediction1=0.0, prediction2=1.0, prediction3=1.0, prediction4=0.0, prediction5=0.0, prediction6=1.0, prediction7=1.0, prediction8=1.0, prediction9=0.0, prediction10=0.0, prediction11=1.0, prediction12=0.0, prediction13=0.0, prediction14=0.0, prediction15=1.0, prediction16=0.0, prediction17=1.0, prediction18=1.0, prediction19=0.0, predictions=SparseVector(20, {2: 1.0, 3: 1.0, 6: 1.0, 7: 1.0, 8: 1.0, 11: 1.0, 15: 1.0, 17: 1.0, 18: 1.0})),\n",
              " Row(movie_id='29062594', prediction0=1.0, prediction1=1.0, prediction2=1.0, prediction3=0.0, prediction4=0.0, prediction5=0.0, prediction6=0.0, prediction7=0.0, prediction8=1.0, prediction9=0.0, prediction10=0.0, prediction11=0.0, prediction12=0.0, prediction13=0.0, prediction14=0.0, prediction15=1.0, prediction16=1.0, prediction17=0.0, prediction18=0.0, prediction19=0.0, predictions=SparseVector(20, {0: 1.0, 1: 1.0, 2: 1.0, 8: 1.0, 15: 1.0, 16: 1.0})),\n",
              " Row(movie_id='9252321', prediction0=1.0, prediction1=1.0, prediction2=1.0, prediction3=0.0, prediction4=0.0, prediction5=0.0, prediction6=0.0, prediction7=0.0, prediction8=1.0, prediction9=0.0, prediction10=0.0, prediction11=0.0, prediction12=0.0, prediction13=0.0, prediction14=0.0, prediction15=1.0, prediction16=0.0, prediction17=0.0, prediction18=0.0, prediction19=0.0, predictions=SparseVector(20, {0: 1.0, 1: 1.0, 2: 1.0, 8: 1.0, 15: 1.0})),\n",
              " Row(movie_id='13455076', prediction0=1.0, prediction1=1.0, prediction2=1.0, prediction3=0.0, prediction4=0.0, prediction5=0.0, prediction6=0.0, prediction7=0.0, prediction8=1.0, prediction9=0.0, prediction10=0.0, prediction11=0.0, prediction12=0.0, prediction13=0.0, prediction14=0.0, prediction15=1.0, prediction16=1.0, prediction17=0.0, prediction18=0.0, prediction19=0.0, predictions=SparseVector(20, {0: 1.0, 1: 1.0, 2: 1.0, 8: 1.0, 15: 1.0, 16: 1.0})),\n",
              " Row(movie_id='24165951', prediction0=1.0, prediction1=1.0, prediction2=1.0, prediction3=0.0, prediction4=0.0, prediction5=0.0, prediction6=0.0, prediction7=0.0, prediction8=1.0, prediction9=0.0, prediction10=0.0, prediction11=0.0, prediction12=0.0, prediction13=0.0, prediction14=0.0, prediction15=1.0, prediction16=1.0, prediction17=0.0, prediction18=0.0, prediction19=0.0, predictions=SparseVector(20, {0: 1.0, 1: 1.0, 2: 1.0, 8: 1.0, 15: 1.0, 16: 1.0}))]"
            ]
          },
          "metadata": {
            "tags": []
          },
          "execution_count": 123
        }
      ]
    },
    {
      "cell_type": "code",
      "metadata": {
        "id": "LP5UpHpqHMP9",
        "colab_type": "code",
        "colab": {}
      },
      "source": [
        "def get_prediction_string(prediction):\n",
        "    predictions = \"\"\n",
        "    for i in range(len(prediction)):\n",
        "        predictions += str(int(prediction[i]))+\" \"\n",
        "    predictions = predictions.rstrip(\" \")\n",
        "    return predictions"
      ],
      "execution_count": 0,
      "outputs": []
    },
    {
      "cell_type": "code",
      "metadata": {
        "id": "AIKRuKugHVGp",
        "colab_type": "code",
        "colab": {}
      },
      "source": [
        "from pyspark.sql import types\n",
        "udffunc = udf(get_prediction_string, types.StringType())\n",
        "new_df = joined_df.withColumn('predictions', udffunc('predictions'))"
      ],
      "execution_count": 0,
      "outputs": []
    },
    {
      "cell_type": "code",
      "metadata": {
        "id": "i8V9umlaHa75",
        "colab_type": "code",
        "colab": {
          "base_uri": "https://localhost:8080/",
          "height": 494
        },
        "outputId": "4345e341-ad2c-486a-f940-426df0fcdfc5"
      },
      "source": [
        "new_df.show()"
      ],
      "execution_count": 126,
      "outputs": [
        {
          "output_type": "stream",
          "text": [
            "+--------+-----------+-----------+-----------+-----------+-----------+-----------+-----------+-----------+-----------+-----------+------------+------------+------------+------------+------------+------------+------------+------------+------------+------------+--------------------+\n",
            "|movie_id|prediction0|prediction1|prediction2|prediction3|prediction4|prediction5|prediction6|prediction7|prediction8|prediction9|prediction10|prediction11|prediction12|prediction13|prediction14|prediction15|prediction16|prediction17|prediction18|prediction19|         predictions|\n",
            "+--------+-----------+-----------+-----------+-----------+-----------+-----------+-----------+-----------+-----------+-----------+------------+------------+------------+------------+------------+------------+------------+------------+------------+------------+--------------------+\n",
            "| 1335380|        0.0|        0.0|        1.0|        1.0|        0.0|        0.0|        1.0|        1.0|        1.0|        0.0|         0.0|         1.0|         0.0|         0.0|         0.0|         1.0|         0.0|         1.0|         1.0|         0.0|0 0 1 1 0 0 1 1 1...|\n",
            "|29062594|        1.0|        1.0|        1.0|        0.0|        0.0|        0.0|        0.0|        0.0|        1.0|        0.0|         0.0|         0.0|         0.0|         0.0|         0.0|         1.0|         1.0|         0.0|         0.0|         0.0|1 1 1 0 0 0 0 0 1...|\n",
            "| 9252321|        1.0|        1.0|        1.0|        0.0|        0.0|        0.0|        0.0|        0.0|        1.0|        0.0|         0.0|         0.0|         0.0|         0.0|         0.0|         1.0|         0.0|         0.0|         0.0|         0.0|1 1 1 0 0 0 0 0 1...|\n",
            "|13455076|        1.0|        1.0|        1.0|        0.0|        0.0|        0.0|        0.0|        0.0|        1.0|        0.0|         0.0|         0.0|         0.0|         0.0|         0.0|         1.0|         1.0|         0.0|         0.0|         0.0|1 1 1 0 0 0 0 0 1...|\n",
            "|24165951|        1.0|        1.0|        1.0|        0.0|        0.0|        0.0|        0.0|        0.0|        1.0|        0.0|         0.0|         0.0|         0.0|         0.0|         0.0|         1.0|         1.0|         0.0|         0.0|         0.0|1 1 1 0 0 0 0 0 1...|\n",
            "| 1925869|        1.0|        1.0|        1.0|        1.0|        0.0|        1.0|        0.0|        0.0|        0.0|        0.0|         1.0|         0.0|         0.0|         0.0|         0.0|         1.0|         0.0|         0.0|         1.0|         0.0|1 1 1 1 0 1 0 0 0...|\n",
            "|10799612|        1.0|        1.0|        1.0|        0.0|        0.0|        0.0|        0.0|        0.0|        1.0|        0.0|         0.0|         0.0|         0.0|         0.0|         0.0|         1.0|         1.0|         0.0|         0.0|         0.0|1 1 1 0 0 0 0 0 1...|\n",
            "|28238240|        1.0|        1.0|        1.0|        0.0|        0.0|        0.0|        0.0|        0.0|        1.0|        0.0|         0.0|         0.0|         0.0|         0.0|         0.0|         1.0|         1.0|         0.0|         0.0|         0.0|1 1 1 0 0 0 0 0 1...|\n",
            "|17124781|        1.0|        1.0|        1.0|        0.0|        0.0|        0.0|        0.0|        0.0|        1.0|        0.0|         0.0|         1.0|         0.0|         0.0|         0.0|         1.0|         0.0|         0.0|         0.0|         0.0|1 1 1 0 0 0 0 0 1...|\n",
            "|28207941|        1.0|        1.0|        1.0|        0.0|        0.0|        0.0|        0.0|        0.0|        1.0|        0.0|         0.0|         0.0|         0.0|         0.0|         0.0|         1.0|         1.0|         0.0|         0.0|         0.0|1 1 1 0 0 0 0 0 1...|\n",
            "|19174305|        1.0|        1.0|        1.0|        0.0|        0.0|        0.0|        0.0|        0.0|        1.0|        0.0|         0.0|         0.0|         0.0|         0.0|         0.0|         1.0|         1.0|         0.0|         0.0|         0.0|1 1 1 0 0 0 0 0 1...|\n",
            "|18392317|        1.0|        1.0|        1.0|        0.0|        0.0|        0.0|        0.0|        0.0|        1.0|        0.0|         0.0|         0.0|         0.0|         1.0|         0.0|         1.0|         1.0|         0.0|         0.0|         0.0|1 1 1 0 0 0 0 0 1...|\n",
            "|34420857|        1.0|        1.0|        1.0|        0.0|        0.0|        0.0|        0.0|        0.0|        1.0|        0.0|         0.0|         0.0|         0.0|         0.0|         0.0|         1.0|         1.0|         0.0|         0.0|         0.0|1 1 1 0 0 0 0 0 1...|\n",
            "| 4039635|        1.0|        0.0|        1.0|        1.0|        0.0|        0.0|        1.0|        1.0|        1.0|        0.0|         1.0|         1.0|         1.0|         0.0|         0.0|         1.0|         1.0|         1.0|         0.0|         0.0|1 0 1 1 0 0 1 1 1...|\n",
            "| 8034072|        1.0|        1.0|        1.0|        0.0|        0.0|        0.0|        0.0|        0.0|        1.0|        0.0|         0.0|         0.0|         0.0|         0.0|         0.0|         0.0|         1.0|         0.0|         0.0|         0.0|1 1 1 0 0 0 0 0 1...|\n",
            "| 4016437|        1.0|        1.0|        1.0|        0.0|        0.0|        0.0|        0.0|        0.0|        1.0|        0.0|         0.0|         1.0|         0.0|         0.0|         0.0|         1.0|         0.0|         0.0|         0.0|         0.0|1 1 1 0 0 0 0 0 1...|\n",
            "| 1520023|        1.0|        1.0|        1.0|        0.0|        0.0|        0.0|        0.0|        0.0|        1.0|        1.0|         0.0|         0.0|         0.0|         0.0|         0.0|         0.0|         1.0|         0.0|         0.0|         0.0|1 1 1 0 0 0 0 0 1...|\n",
            "|24589422|        1.0|        1.0|        1.0|        1.0|        0.0|        1.0|        0.0|        0.0|        0.0|        0.0|         0.0|         0.0|         0.0|         0.0|         0.0|         1.0|         0.0|         0.0|         1.0|         0.0|1 1 1 1 0 1 0 0 0...|\n",
            "|35068740|        1.0|        1.0|        1.0|        0.0|        0.0|        0.0|        0.0|        0.0|        1.0|        0.0|         0.0|         0.0|         0.0|         0.0|         0.0|         1.0|         1.0|         0.0|         0.0|         0.0|1 1 1 0 0 0 0 0 1...|\n",
            "|21132951|        1.0|        1.0|        1.0|        0.0|        0.0|        0.0|        0.0|        0.0|        1.0|        0.0|         0.0|         0.0|         0.0|         0.0|         0.0|         1.0|         1.0|         0.0|         0.0|         0.0|1 1 1 0 0 0 0 0 1...|\n",
            "+--------+-----------+-----------+-----------+-----------+-----------+-----------+-----------+-----------+-----------+-----------+------------+------------+------------+------------+------------+------------+------------+------------+------------+------------+--------------------+\n",
            "only showing top 20 rows\n",
            "\n"
          ],
          "name": "stdout"
        }
      ]
    },
    {
      "cell_type": "code",
      "metadata": {
        "id": "dRO5LCj-Hfmb",
        "colab_type": "code",
        "colab": {}
      },
      "source": [
        "\n",
        "drop_cols = []\n",
        "for i in range(len(l)):\n",
        "    drop_cols.append('prediction{}'.format(i))"
      ],
      "execution_count": 0,
      "outputs": []
    },
    {
      "cell_type": "code",
      "metadata": {
        "id": "JxuyEbX-HiIx",
        "colab_type": "code",
        "colab": {
          "base_uri": "https://localhost:8080/",
          "height": 474
        },
        "outputId": "5ef7a239-2344-4300-ff97-b9e7f8ce49d7"
      },
      "source": [
        "new_df = new_df.drop(*drop_cols)\n",
        "new_df.show()"
      ],
      "execution_count": 128,
      "outputs": [
        {
          "output_type": "stream",
          "text": [
            "+--------+--------------------+\n",
            "|movie_id|         predictions|\n",
            "+--------+--------------------+\n",
            "| 1335380|0 0 1 1 0 0 1 1 1...|\n",
            "|29062594|1 1 1 0 0 0 0 0 1...|\n",
            "| 9252321|1 1 1 0 0 0 0 0 1...|\n",
            "|13455076|1 1 1 0 0 0 0 0 1...|\n",
            "|24165951|1 1 1 0 0 0 0 0 1...|\n",
            "| 1925869|1 1 1 1 0 1 0 0 0...|\n",
            "|10799612|1 1 1 0 0 0 0 0 1...|\n",
            "|28238240|1 1 1 0 0 0 0 0 1...|\n",
            "|17124781|1 1 1 0 0 0 0 0 1...|\n",
            "|28207941|1 1 1 0 0 0 0 0 1...|\n",
            "|19174305|1 1 1 0 0 0 0 0 1...|\n",
            "|18392317|1 1 1 0 0 0 0 0 1...|\n",
            "|34420857|1 1 1 0 0 0 0 0 1...|\n",
            "| 4039635|1 0 1 1 0 0 1 1 1...|\n",
            "| 8034072|1 1 1 0 0 0 0 0 1...|\n",
            "| 4016437|1 1 1 0 0 0 0 0 1...|\n",
            "| 1520023|1 1 1 0 0 0 0 0 1...|\n",
            "|24589422|1 1 1 1 0 1 0 0 0...|\n",
            "|35068740|1 1 1 0 0 0 0 0 1...|\n",
            "|21132951|1 1 1 0 0 0 0 0 1...|\n",
            "+--------+--------------------+\n",
            "only showing top 20 rows\n",
            "\n"
          ],
          "name": "stdout"
        }
      ]
    },
    {
      "cell_type": "code",
      "metadata": {
        "id": "hLpF9R4bHm9W",
        "colab_type": "code",
        "colab": {}
      },
      "source": [
        "new_df.select('*').toPandas().to_csv(\"/content/gdrive/My Drive/Colab Notebooks/submission.csv\", index = False)"
      ],
      "execution_count": 0,
      "outputs": []
    }
  ]
}